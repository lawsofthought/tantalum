{
 "cells": [
  {
   "cell_type": "markdown",
   "metadata": {},
   "source": [
    "# Make a corpus of mini documents\n",
    "The following code will create a corpus, which is the large subset of the entire BNC, that can be used with bag of words topic models.\n",
    "\n",
    "For this, I assume you have downloaded either the *2554* BNC corpus or the *bnc_paragraphs.pkl* file. If you have the *bnc_paragraphs.pkl* file, you don't need the *2554* corpus, unless you want to re-create the *bnc_paragraphs.pkl*. \n",
    "These two files can be obtained by running, in a unix shell, the commands:\n",
    "* getbnc2554.sh\n",
    "* getbncparagraphs.sh\n",
    "\n",
    "You'll also need some word lists, including stop word lists. These can be obtained with \n",
    "* getvocabularylists.sh"
   ]
  },
  {
   "cell_type": "code",
   "execution_count": 1,
   "metadata": {
    "collapsed": false
   },
   "outputs": [],
   "source": [
    "from collections import defaultdict"
   ]
  },
  {
   "cell_type": "code",
   "execution_count": 2,
   "metadata": {
    "collapsed": false
   },
   "outputs": [],
   "source": [
    "from bnctools import utils"
   ]
  },
  {
   "cell_type": "code",
   "execution_count": 3,
   "metadata": {
    "collapsed": false
   },
   "outputs": [],
   "source": [
    "use_cached_data = True\n",
    "\n",
    "pkl_filename = 'bnc_paragraphs.pkl'\n",
    "bnc_2554_texts_root = 'bnc/2554/download/Texts/'\n",
    "\n",
    "if not use_cached_data:\n",
    "    \n",
    "    corpus_filenames = utils.Corpus.get_corpus_filenames(bnc_2554_texts_root)\n",
    "    \n",
    "    # Make sure cluster is started with e.g. ipcluster start -n 16\n",
    "    view = utils.init_ipyparallel()\n",
    "    paragraphs = utils.get_all_paragraphs_parallel(view, corpus_filenames)\n",
    "    utils.dump(paragraphs, filename=pkl_filename)\n",
    "\n",
    "else:\n",
    "    \n",
    "    paragraphs = utils.load(pkl_filename)"
   ]
  },
  {
   "cell_type": "code",
   "execution_count": 4,
   "metadata": {
    "collapsed": false
   },
   "outputs": [
    {
     "data": {
      "text/plain": [
       "87564696"
      ]
     },
     "execution_count": 4,
     "metadata": {},
     "output_type": "execute_result"
    }
   ],
   "source": [
    "sum(map(lambda paragraph: paragraph['word_count'], paragraphs))"
   ]
  },
  {
   "cell_type": "code",
   "execution_count": 5,
   "metadata": {
    "collapsed": false
   },
   "outputs": [],
   "source": [
    "mini_documents = utils.paragraphs_to_mini_documents(paragraphs)"
   ]
  },
  {
   "cell_type": "code",
   "execution_count": 6,
   "metadata": {
    "collapsed": false
   },
   "outputs": [],
   "source": [
    "counts = map(lambda doc: len(doc.split('|')), mini_documents)"
   ]
  },
  {
   "cell_type": "code",
   "execution_count": 7,
   "metadata": {
    "collapsed": false
   },
   "outputs": [
    {
     "data": {
      "text/plain": [
       "[78723408, 250, 500]"
      ]
     },
     "execution_count": 7,
     "metadata": {},
     "output_type": "execute_result"
    }
   ],
   "source": [
    "[f(counts) for f in (sum, min, max)]"
   ]
  },
  {
   "cell_type": "code",
   "execution_count": 8,
   "metadata": {
    "collapsed": false
   },
   "outputs": [],
   "source": [
    "with open('bnc_texts_%d_%d_%d.txt' % tuple([func(counts) for func in (sum, min, max)]), 'w') as f:\n",
    "    f.write('\\n'.join(mini_documents))"
   ]
  },
  {
   "cell_type": "code",
   "execution_count": 9,
   "metadata": {
    "collapsed": true
   },
   "outputs": [],
   "source": [
    "vocabulary = utils.get_corpus_vocabulary(mini_documents, minimum_count=5)"
   ]
  },
  {
   "cell_type": "code",
   "execution_count": 10,
   "metadata": {
    "collapsed": false
   },
   "outputs": [
    {
     "data": {
      "text/plain": [
       "49328"
      ]
     },
     "execution_count": 10,
     "metadata": {},
     "output_type": "execute_result"
    }
   ],
   "source": [
    "len(vocabulary)"
   ]
  },
  {
   "cell_type": "code",
   "execution_count": 11,
   "metadata": {
    "collapsed": false
   },
   "outputs": [],
   "source": [
    "with open('bnc_vocab_%d.txt' % len(vocabulary), 'w') as f:\n",
    "    f.write('\\n'.join(sorted(vocabulary.keys())))"
   ]
  }
 ],
 "metadata": {
  "kernelspec": {
   "display_name": "Python 2",
   "language": "python2",
   "name": "python2"
  },
  "language_info": {
   "codemirror_mode": {
    "name": "ipython",
    "version": 2
   },
   "file_extension": ".py",
   "mimetype": "text/x-python",
   "name": "python",
   "nbconvert_exporter": "python",
   "pygments_lexer": "ipython2",
   "version": "2.7.12"
  }
 },
 "nbformat": 4,
 "nbformat_minor": 1
}
