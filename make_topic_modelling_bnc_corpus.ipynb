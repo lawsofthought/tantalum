{
 "cells": [
  {
   "cell_type": "markdown",
   "metadata": {},
   "source": [
    "# Make a corpus of BNC documents for topic modelling \n",
    "\n",
    "The following code will create a corpus, which is the large subset of the entire BNC, that can be used with bag of words topic models.\n",
    "\n",
    "For this, I assume you have downloaded either the *2554* BNC corpus or the *bnc_paragraphs.pkl* file. If you have the *bnc_paragraphs.pkl* file, you don't need the *2554* corpus, unless you want to re-create the *bnc_paragraphs.pkl*. \n",
    "\n",
    "The Python package `bnctools` provides bash shell scripts for downloading the BNC corpus of the *bnc_paragraphs.pkl* files:\n",
    "* `getbnc2554.sh` get the BNC corpus zip archive \n",
    "* `getbncparagraphs.sh` gets *bnc_paragraphs.pkl* \n",
    "\n",
    "You'll also need some word lists, including stop word lists. These can be obtained with another shell script from `bnctools`:\n",
    "* `getvocabularylists.sh`"
   ]
  },
  {
   "cell_type": "code",
   "execution_count": 1,
   "metadata": {
    "collapsed": false
   },
   "outputs": [],
   "source": [
    "from collections import defaultdict"
   ]
  },
  {
   "cell_type": "code",
   "execution_count": 2,
   "metadata": {
    "collapsed": false
   },
   "outputs": [],
   "source": [
    "from bnctools import utils"
   ]
  },
  {
   "cell_type": "markdown",
   "metadata": {},
   "source": [
    "Extract all paragraphs (they are tagged as such) from the BNC."
   ]
  },
  {
   "cell_type": "code",
   "execution_count": 5,
   "metadata": {
    "collapsed": false
   },
   "outputs": [],
   "source": [
    "use_cached_data = True # Set to False if you do not want to use the cached pickle file\n",
    "\n",
    "pkl_filename = 'bnc_paragraphs.pkl'\n",
    "bnc_2554_texts_root = 'bnc/2554/download/Texts/'\n",
    "\n",
    "if not use_cached_data:\n",
    "    \n",
    "    corpus_filenames = utils.Corpus.get_corpus_filenames(bnc_2554_texts_root)\n",
    "    \n",
    "    # Make sure cluster is started with e.g. ipcluster start -n 16\n",
    "    view = utils.init_ipyparallel()\n",
    "    paragraphs = utils.get_all_paragraphs_parallel(view, corpus_filenames)\n",
    "    utils.dump(paragraphs, filename=pkl_filename)\n",
    "\n",
    "else:\n",
    "    \n",
    "    paragraphs = utils.load(pkl_filename)"
   ]
  },
  {
   "cell_type": "markdown",
   "metadata": {},
   "source": [
    "Count the total number of words in the set of paragraphs we have now extracted."
   ]
  },
  {
   "cell_type": "code",
   "execution_count": 6,
   "metadata": {
    "collapsed": false
   },
   "outputs": [
    {
     "data": {
      "text/plain": [
       "87564696"
      ]
     },
     "execution_count": 6,
     "metadata": {},
     "output_type": "execute_result"
    }
   ],
   "source": [
    "sum(map(lambda paragraph: paragraph['word_count'], paragraphs))"
   ]
  },
  {
   "cell_type": "markdown",
   "metadata": {},
   "source": [
    "The following will create a set of small \"documents\". Each document is either a single paragraph or a concatenation of consecutive paragraphs such that the total word count in each mini document is in a given word count range, which by default is 250 to 500 words. "
   ]
  },
  {
   "cell_type": "code",
   "execution_count": 8,
   "metadata": {
    "collapsed": false
   },
   "outputs": [],
   "source": [
    "mini_documents = utils.paragraphs_to_mini_documents(paragraphs)"
   ]
  },
  {
   "cell_type": "markdown",
   "metadata": {},
   "source": [
    "We can now get the word counts in each document.  "
   ]
  },
  {
   "cell_type": "code",
   "execution_count": 10,
   "metadata": {
    "collapsed": false
   },
   "outputs": [],
   "source": [
    "counts = map(lambda doc: len(doc.split('|')), mini_documents)"
   ]
  },
  {
   "cell_type": "markdown",
   "metadata": {},
   "source": [
    "And get the number of documents, their total word count, the minimum and maximum word count."
   ]
  },
  {
   "cell_type": "code",
   "execution_count": 11,
   "metadata": {
    "collapsed": false
   },
   "outputs": [
    {
     "data": {
      "text/plain": [
       "[184271, 78723408, 250, 500]"
      ]
     },
     "execution_count": 11,
     "metadata": {},
     "output_type": "execute_result"
    }
   ],
   "source": [
    "[f(counts) for f in (len, sum, min, max)]"
   ]
  },
  {
   "cell_type": "code",
   "execution_count": 12,
   "metadata": {
    "collapsed": false
   },
   "outputs": [],
   "source": [
    "with open('bnc_texts_%d_%d_%d.txt' % tuple([func(counts) for func in (sum, min, max)]), 'w') as f:\n",
    "    f.write('\\n'.join(mini_documents))"
   ]
  },
  {
   "cell_type": "code",
   "execution_count": 13,
   "metadata": {
    "collapsed": true
   },
   "outputs": [],
   "source": [
    "vocabulary = utils.get_corpus_vocabulary(mini_documents, minimum_count=5)"
   ]
  },
  {
   "cell_type": "code",
   "execution_count": 14,
   "metadata": {
    "collapsed": false
   },
   "outputs": [
    {
     "data": {
      "text/plain": [
       "49328"
      ]
     },
     "execution_count": 14,
     "metadata": {},
     "output_type": "execute_result"
    }
   ],
   "source": [
    "len(vocabulary)"
   ]
  },
  {
   "cell_type": "code",
   "execution_count": 15,
   "metadata": {
    "collapsed": false
   },
   "outputs": [],
   "source": [
    "with open('bnc_vocab_%d.txt' % len(vocabulary), 'w') as f:\n",
    "    f.write('\\n'.join(sorted(vocabulary.keys())))"
   ]
  }
 ],
 "metadata": {
  "kernelspec": {
   "display_name": "Python 2",
   "language": "python2",
   "name": "python2"
  },
  "language_info": {
   "codemirror_mode": {
    "name": "ipython",
    "version": 2
   },
   "file_extension": ".py",
   "mimetype": "text/x-python",
   "name": "python",
   "nbconvert_exporter": "python",
   "pygments_lexer": "ipython2",
   "version": "2.7.13"
  }
 },
 "nbformat": 4,
 "nbformat_minor": 1
}
